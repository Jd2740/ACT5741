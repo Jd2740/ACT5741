{
  "nbformat": 4,
  "nbformat_minor": 0,
  "metadata": {
    "colab": {
      "provenance": [],
      "include_colab_link": true
    },
    "kernelspec": {
      "name": "python3",
      "display_name": "Python 3"
    },
    "language_info": {
      "name": "python"
    }
  },
  "cells": [
    {
      "cell_type": "markdown",
      "metadata": {
        "id": "view-in-github",
        "colab_type": "text"
      },
      "source": [
        "<a href=\"https://colab.research.google.com/github/Jd2740/ACT5741/blob/main/xbrl.ipynb\" target=\"_parent\"><img src=\"https://colab.research.google.com/assets/colab-badge.svg\" alt=\"Open In Colab\"/></a>"
      ]
    },
    {
      "cell_type": "code",
      "source": [
        "!pip install pysentiment2"
      ],
      "metadata": {
        "colab": {
          "base_uri": "https://localhost:8080/"
        },
        "id": "N8763cBTtq4r",
        "outputId": "a5e423e7-c19b-4097-e5f6-6587fc9d6af1"
      },
      "execution_count": 7,
      "outputs": [
        {
          "output_type": "stream",
          "name": "stdout",
          "text": [
            "Looking in indexes: https://pypi.org/simple, https://us-python.pkg.dev/colab-wheels/public/simple/\n",
            "Collecting pysentiment2\n",
            "  Downloading pysentiment2-0.1.1-py3-none-any.whl (1.9 MB)\n",
            "\u001b[K     |████████████████████████████████| 1.9 MB 4.8 MB/s \n",
            "\u001b[?25hRequirement already satisfied: pandas in /usr/local/lib/python3.8/dist-packages (from pysentiment2) (1.3.5)\n",
            "Requirement already satisfied: nltk>=2.0 in /usr/local/lib/python3.8/dist-packages (from pysentiment2) (3.7)\n",
            "Requirement already satisfied: joblib in /usr/local/lib/python3.8/dist-packages (from nltk>=2.0->pysentiment2) (1.2.0)\n",
            "Requirement already satisfied: tqdm in /usr/local/lib/python3.8/dist-packages (from nltk>=2.0->pysentiment2) (4.64.1)\n",
            "Requirement already satisfied: click in /usr/local/lib/python3.8/dist-packages (from nltk>=2.0->pysentiment2) (7.1.2)\n",
            "Requirement already satisfied: regex>=2021.8.3 in /usr/local/lib/python3.8/dist-packages (from nltk>=2.0->pysentiment2) (2022.6.2)\n",
            "Requirement already satisfied: numpy>=1.17.3 in /usr/local/lib/python3.8/dist-packages (from pandas->pysentiment2) (1.21.6)\n",
            "Requirement already satisfied: pytz>=2017.3 in /usr/local/lib/python3.8/dist-packages (from pandas->pysentiment2) (2022.6)\n",
            "Requirement already satisfied: python-dateutil>=2.7.3 in /usr/local/lib/python3.8/dist-packages (from pandas->pysentiment2) (2.8.2)\n",
            "Requirement already satisfied: six>=1.5 in /usr/local/lib/python3.8/dist-packages (from python-dateutil>=2.7.3->pandas->pysentiment2) (1.15.0)\n",
            "Installing collected packages: pysentiment2\n",
            "Successfully installed pysentiment2-0.1.1\n"
          ]
        }
      ]
    },
    {
      "cell_type": "code",
      "metadata": {
        "id": "Opl4376DG1la",
        "colab": {
          "base_uri": "https://localhost:8080/"
        },
        "outputId": "9e814572-5f1a-4d3b-c111-2456e7b086b9"
      },
      "source": [
        "import pysentiment2 as ps\n",
        "import base64\n",
        "import requests\n",
        "\n",
        "master = \"https://raw.githubusercontent.com/Jd2740/ACT5741/main/Article1.txt\"\n",
        "req = requests.get(master)\n",
        "req = req.text\n",
        "\n",
        "lm = ps.LM()\n",
        "tokens = lm.tokenize(req)\n",
        "score = lm.get_score(tokens)\n",
        "print(score)"
      ],
      "execution_count": 8,
      "outputs": [
        {
          "output_type": "stream",
          "name": "stdout",
          "text": [
            "{'Positive': 12, 'Negative': 11, 'Polarity': 0.04347825897920613, 'Subjectivity': 0.0550239233133399}\n"
          ]
        }
      ]
    },
    {
      "cell_type": "code",
      "source": [],
      "metadata": {
        "id": "4bayGNQTqWms"
      },
      "execution_count": null,
      "outputs": []
    },
    {
      "cell_type": "code",
      "metadata": {
        "outputId": "9809f81b-21a0-41b5-f597-6627d087f5c1",
        "colab": {
          "base_uri": "https://localhost:8080/"
        },
        "id": "sO7Plo4_uPI8"
      },
      "source": [
        "import pysentiment2 as ps\n",
        "import base64\n",
        "import requests\n",
        "\n",
        "master = \"https://raw.githubusercontent.com/Jd2740/ACT5741/main/Article2.txt\"\n",
        "req = requests.get(master)\n",
        "req = req.text\n",
        "\n",
        "lm = ps.LM()\n",
        "tokens = lm.tokenize(req)\n",
        "score = lm.get_score(tokens)\n",
        "print(score)"
      ],
      "execution_count": 9,
      "outputs": [
        {
          "output_type": "stream",
          "name": "stdout",
          "text": [
            "{'Positive': 11, 'Negative': 19, 'Polarity': -0.26666665777777804, 'Subjectivity': 0.07075471681425774}\n"
          ]
        }
      ]
    },
    {
      "cell_type": "code",
      "metadata": {
        "outputId": "fb9bf14b-3024-4ac5-b0d4-7e4221e5fdf6",
        "colab": {
          "base_uri": "https://localhost:8080/"
        },
        "id": "881Jgb_puOje"
      },
      "source": [
        "import pysentiment2 as ps\n",
        "import base64\n",
        "import requests\n",
        "\n",
        "master = \"https://raw.githubusercontent.com/Jd2740/ACT5741/main/Article3.txt\"\n",
        "req = requests.get(master)\n",
        "req = req.text\n",
        "\n",
        "lm = ps.LM()\n",
        "tokens = lm.tokenize(req)\n",
        "score = lm.get_score(tokens)\n",
        "print(score)"
      ],
      "execution_count": 10,
      "outputs": [
        {
          "output_type": "stream",
          "name": "stdout",
          "text": [
            "{'Positive': 18, 'Negative': 12, 'Polarity': 0.19999999333333354, 'Subjectivity': 0.07614213178644129}\n"
          ]
        }
      ]
    },
    {
      "cell_type": "code",
      "metadata": {
        "outputId": "994b8d76-6f33-4746-d7ff-575848c0843b",
        "colab": {
          "base_uri": "https://localhost:8080/"
        },
        "id": "b2NXePFeuN48"
      },
      "source": [
        "import pysentiment2 as ps\n",
        "import base64\n",
        "import requests\n",
        "\n",
        "master = \"https://raw.githubusercontent.com/Jd2740/ACT5741/main/Article4.txt\"\n",
        "req = requests.get(master)\n",
        "req = req.text\n",
        "\n",
        "lm = ps.LM()\n",
        "tokens = lm.tokenize(req)\n",
        "score = lm.get_score(tokens)\n",
        "print(score)"
      ],
      "execution_count": 11,
      "outputs": [
        {
          "output_type": "stream",
          "name": "stdout",
          "text": [
            "{'Positive': 9, 'Negative': 4, 'Polarity': 0.3846153550295881, 'Subjectivity': 0.0812499994921875}\n"
          ]
        }
      ]
    },
    {
      "cell_type": "code",
      "metadata": {
        "outputId": "55a16174-1ed8-4c43-b17e-ceb478707380",
        "colab": {
          "base_uri": "https://localhost:8080/"
        },
        "id": "BwDI-fn_uM2p"
      },
      "source": [
        "import pysentiment2 as ps\n",
        "import base64\n",
        "import requests\n",
        "\n",
        "master = \"https://raw.githubusercontent.com/Jd2740/ACT5741/main/Article11.txt\"\n",
        "req = requests.get(master)\n",
        "req = req.text\n",
        "\n",
        "lm = ps.LM()\n",
        "tokens = lm.tokenize(req)\n",
        "score = lm.get_score(tokens)\n",
        "print(score)"
      ],
      "execution_count": 12,
      "outputs": [
        {
          "output_type": "stream",
          "name": "stdout",
          "text": [
            "{'Positive': 9, 'Negative': 4, 'Polarity': 0.3846153550295881, 'Subjectivity': 0.0812499994921875}\n"
          ]
        }
      ]
    },
    {
      "cell_type": "code",
      "metadata": {
        "outputId": "ef337ac2-ff65-4f4a-ffe9-624a86498bbf",
        "colab": {
          "base_uri": "https://localhost:8080/"
        },
        "id": "iH2IvXtZuMD-"
      },
      "source": [
        "import pysentiment2 as ps\n",
        "import base64\n",
        "import requests\n",
        "\n",
        "master = \"https://raw.githubusercontent.com/Jd2740/ACT5741/main/Article22.txt\"\n",
        "req = requests.get(master)\n",
        "req = req.text\n",
        "\n",
        "lm = ps.LM()\n",
        "tokens = lm.tokenize(req)\n",
        "score = lm.get_score(tokens)\n",
        "print(score)"
      ],
      "execution_count": 17,
      "outputs": [
        {
          "output_type": "stream",
          "name": "stdout",
          "text": [
            "{'Positive': 3, 'Negative': 4, 'Polarity': -0.1428571224489825, 'Subjectivity': 0.04516129003121749}\n"
          ]
        }
      ]
    },
    {
      "cell_type": "code",
      "metadata": {
        "id": "Fmerm9Z1Pb6w"
      },
      "source": [],
      "execution_count": null,
      "outputs": []
    },
    {
      "cell_type": "code",
      "metadata": {
        "outputId": "e8142cc5-1bef-4cdd-a8c1-a184cd8ecd75",
        "colab": {
          "base_uri": "https://localhost:8080/"
        },
        "id": "c-dxhfNcuQ_s"
      },
      "source": [
        "import pysentiment2 as ps\n",
        "import base64\n",
        "import requests\n",
        "\n",
        "master = \"https://raw.githubusercontent.com/Jd2740/ACT5741/main/Article33.txt\"\n",
        "req = requests.get(master)\n",
        "req = req.text\n",
        "\n",
        "lm = ps.LM()\n",
        "tokens = lm.tokenize(req)\n",
        "score = lm.get_score(tokens)\n",
        "print(score)"
      ],
      "execution_count": 16,
      "outputs": [
        {
          "output_type": "stream",
          "name": "stdout",
          "text": [
            "{'Positive': 26, 'Negative': 11, 'Polarity': 0.4054053944485029, 'Subjectivity': 0.04092920349454734}\n"
          ]
        }
      ]
    },
    {
      "cell_type": "code",
      "metadata": {
        "outputId": "efb82483-1d40-4328-983f-87dd399d6fff",
        "colab": {
          "base_uri": "https://localhost:8080/"
        },
        "id": "0Wh-s4O4uQPt"
      },
      "source": [
        "import pysentiment2 as ps\n",
        "import base64\n",
        "import requests\n",
        "\n",
        "master = \"https://raw.githubusercontent.com/Jd2740/ACT5741/main/Article44.txt\"\n",
        "req = requests.get(master)\n",
        "req = req.text\n",
        "\n",
        "lm = ps.LM()\n",
        "tokens = lm.tokenize(req)\n",
        "score = lm.get_score(tokens)\n",
        "print(score)"
      ],
      "execution_count": 15,
      "outputs": [
        {
          "output_type": "stream",
          "name": "stdout",
          "text": [
            "{'Positive': 3, 'Negative': 10, 'Polarity': -0.5384614970414233, 'Subjectivity': 0.07692307646791079}\n"
          ]
        }
      ]
    },
    {
      "cell_type": "code",
      "metadata": {
        "id": "_Mi38mnCPcW2"
      },
      "source": [],
      "execution_count": null,
      "outputs": []
    },
    {
      "cell_type": "code",
      "source": [],
      "metadata": {
        "id": "s70tfnXjusAr"
      },
      "execution_count": null,
      "outputs": []
    },
    {
      "cell_type": "code",
      "metadata": {
        "outputId": "b837b6ef-5914-4915-8d23-287e06a9c724",
        "colab": {
          "base_uri": "https://localhost:8080/"
        },
        "id": "h6mPer2NuR7h"
      },
      "source": [
        "import pysentiment2 as ps\n",
        "import base64\n",
        "import requests\n",
        "\n",
        "master = \"https://raw.githubusercontent.com/Jd2740/ACT5741/main/Article111.txt\"\n",
        "req = requests.get(master)\n",
        "req = req.text\n",
        "\n",
        "lm = ps.LM()\n",
        "tokens = lm.tokenize(req)\n",
        "score = lm.get_score(tokens)\n",
        "print(score)"
      ],
      "execution_count": 21,
      "outputs": [
        {
          "output_type": "stream",
          "name": "stdout",
          "text": [
            "{'Positive': 15, 'Negative': 1, 'Polarity': 0.8749999453125034, 'Subjectivity': 0.06324110646940274}\n"
          ]
        }
      ]
    },
    {
      "cell_type": "code",
      "metadata": {
        "outputId": "b0dee966-9d9a-4498-d2b9-f49ea3c41481",
        "colab": {
          "base_uri": "https://localhost:8080/"
        },
        "id": "NNceOeW1uvtJ"
      },
      "source": [
        "import pysentiment2 as ps\n",
        "import base64\n",
        "import requests\n",
        "\n",
        "master = \"https://raw.githubusercontent.com/Jd2740/ACT5741/main/Article222.txt\"\n",
        "req = requests.get(master)\n",
        "req = req.text\n",
        "\n",
        "lm = ps.LM()\n",
        "tokens = lm.tokenize(req)\n",
        "score = lm.get_score(tokens)\n",
        "print(score)"
      ],
      "execution_count": 20,
      "outputs": [
        {
          "output_type": "stream",
          "name": "stdout",
          "text": [
            "{'Positive': 5, 'Negative': 17, 'Polarity': -0.5454545206611581, 'Subjectivity': 0.07051282028681788}\n"
          ]
        }
      ]
    },
    {
      "cell_type": "code",
      "metadata": {
        "outputId": "129b862b-180c-45c6-cfc2-b165540c67e3",
        "colab": {
          "base_uri": "https://localhost:8080/"
        },
        "id": "-1t8a7y8uygy"
      },
      "source": [
        "import pysentiment2 as ps\n",
        "import base64\n",
        "import requests\n",
        "\n",
        "master = \"https://raw.githubusercontent.com/Jd2740/ACT5741/main/Article333.txt\"\n",
        "req = requests.get(master)\n",
        "req = req.text\n",
        "\n",
        "lm = ps.LM()\n",
        "tokens = lm.tokenize(req)\n",
        "score = lm.get_score(tokens)\n",
        "print(score)"
      ],
      "execution_count": 19,
      "outputs": [
        {
          "output_type": "stream",
          "name": "stdout",
          "text": [
            "{'Positive': 39, 'Negative': 43, 'Polarity': -0.04878048720999406, 'Subjectivity': 0.04408602148167418}\n"
          ]
        }
      ]
    },
    {
      "cell_type": "code",
      "metadata": {
        "outputId": "8dd138ab-90d9-4109-8bdf-a081a0b07f09",
        "colab": {
          "base_uri": "https://localhost:8080/"
        },
        "id": "h_w7l6nzu0qg"
      },
      "source": [
        "import pysentiment2 as ps\n",
        "import base64\n",
        "import requests\n",
        "\n",
        "master = \"https://raw.githubusercontent.com/Jd2740/ACT5741/main/Article444.txt\"\n",
        "req = requests.get(master)\n",
        "req = req.text\n",
        "\n",
        "lm = ps.LM()\n",
        "tokens = lm.tokenize(req)\n",
        "score = lm.get_score(tokens)\n",
        "print(score)"
      ],
      "execution_count": 18,
      "outputs": [
        {
          "output_type": "stream",
          "name": "stdout",
          "text": [
            "{'Positive': 17, 'Negative': 22, 'Polarity': -0.12820512491781733, 'Subjectivity': 0.0909090906971816}\n"
          ]
        }
      ]
    }
  ]
}